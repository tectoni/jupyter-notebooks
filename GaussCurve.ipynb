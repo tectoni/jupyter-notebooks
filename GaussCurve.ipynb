{
 "cells": [
  {
   "cell_type": "markdown",
   "id": "d234f98c",
   "metadata": {},
   "source": [
    "### Plotting a Density Diagram for Gaussian Error Curves\n",
    "... with a sum curve"
   ]
  },
  {
   "cell_type": "code",
   "execution_count": 126,
   "id": "70e62461",
   "metadata": {},
   "outputs": [],
   "source": [
    "import matplotlib.pyplot as plt\n",
    "import numpy as np\n",
    "import csv\n",
    "age=[]\n",
    "err=[]\n",
    "with open('agedata.txt') as csvfile:\n",
    "    plots=csv.reader(csvfile, delimiter='\\t')\n",
    "    next(plots)\n",
    "    for row in plots:\n",
    "        age.append(float(row[0]))\n",
    "        err.append(float(row[1]))\n",
    "gd=np.zeros((np.size(age),2,60))\n",
    "        "
   ]
  },
  {
   "cell_type": "code",
   "execution_count": 127,
   "id": "2cae59dd",
   "metadata": {},
   "outputs": [],
   "source": [
    "def gy(ag, error):\n",
    "    data=np.linspace(ag - 3. * error, ag+3*error, 60)\n",
    "    y=np.zeros(np.size(data), dtype=float)\n",
    "    results=np.zeros(shape=(2, np.size(data)))\n",
    "    i=0\n",
    "    for x in data:\n",
    "        y[i]= 1/(error * np.sqrt(2*np.pi)) * np.exp(-np.power((x-ag),2)/2/np.power(error,2))\n",
    "        i=i+1\n",
    "    results[0,:]=data\n",
    "    results[1,:]=y\n",
    "    return results\n",
    "\n",
    "def fun_sumcurve(ages, errors):\n",
    "    data=np.linspace(100, 900, 200)\n",
    "    y=np.zeros(np.size(data), dtype=float)\n",
    "    results=np.zeros(shape=(2, np.size(data)))\n",
    "    j=0   \n",
    "    for index, value in enumerate(data):\n",
    "        y[index]=0\n",
    "        for count, age in enumerate(ages):\n",
    "            y[index]= y[index] + 1/(errors[count] * np.sqrt(2*np.pi)) * np.exp(-np.power((value-age),2)/2/np.power(errors[count],2))            \n",
    "    results[0,:]=data\n",
    "    results[1,:]=y\n",
    "    return results"
   ]
  },
  {
   "cell_type": "code",
   "execution_count": 128,
   "id": "1c51af7a",
   "metadata": {},
   "outputs": [
    {
     "data": {
      "text/plain": [
       "[<matplotlib.lines.Line2D at 0x7fb7808f1d00>]"
      ]
     },
     "execution_count": 128,
     "metadata": {},
     "output_type": "execute_result"
    },
    {
     "data": {
      "image/png": "[encoded data removed]",
      "text/plain": [
       "<Figure size 432x288 with 1 Axes>"
      ]
     },
     "metadata": {
      "needs_background": "light"
     },
     "output_type": "display_data"
    }
   ],
   "source": [
    "i=0\n",
    "for x in age:\n",
    "    gd[i,:,:]=gy(x, err[i])\n",
    "    i=i+1\n",
    "\n",
    "fig, ax1 = plt.subplots()\n",
    "ax1.set_xlabel('age')\n",
    "ax1.set_ylabel('prob')\n",
    "\n",
    "i=0\n",
    "while i < np.size(age):\n",
    "    ax1.plot(gd[i,0,:],gd[i,1,:], color='blue', label='blah')\n",
    "    i=i+1\n",
    "\n",
    "sumcurve = np.zeros(shape=(2, 200))\n",
    "sumcurve = fun_sumcurve(age, err)\n",
    "ax1.plot(sumcurve[0,:], sumcurve[1,:], color='red', label='blah')\n"
   ]
  }
 ],
 "metadata": {
  "kernelspec": {
   "display_name": "Python 3",
   "language": "python",
   "name": "python3"
  },
  "language_info": {
   "codemirror_mode": {
    "name": "ipython",
    "version": 3
   },
   "file_extension": ".py",
   "mimetype": "text/x-python",
   "name": "python",
   "nbconvert_exporter": "python",
   "pygments_lexer": "ipython3",
   "version": "3.8.12"
  }
 },
 "nbformat": 4,
 "nbformat_minor": 5
}
